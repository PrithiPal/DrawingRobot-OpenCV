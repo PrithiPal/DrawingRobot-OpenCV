{
 "cells": [
  {
   "cell_type": "code",
   "execution_count": 5,
   "metadata": {
    "collapsed": false,
    "scrolled": true
   },
   "outputs": [
    {
     "ename": "NameError",
     "evalue": "global name 'th3' is not defined",
     "output_type": "error",
     "traceback": [
      "\u001b[0;31m---------------------------------------------------------------------------\u001b[0m",
      "\u001b[0;31mNameError\u001b[0m                                 Traceback (most recent call last)",
      "\u001b[0;32m<ipython-input-5-2cb34a643c6c>\u001b[0m in \u001b[0;36m<module>\u001b[0;34m()\u001b[0m\n\u001b[1;32m     56\u001b[0m \u001b[0;34m\u001b[0m\u001b[0m\n\u001b[1;32m     57\u001b[0m \u001b[0;32mif\u001b[0m \u001b[0m__name__\u001b[0m \u001b[0;34m==\u001b[0m \u001b[0;34m\"__main__\"\u001b[0m \u001b[0;34m:\u001b[0m\u001b[0;34m\u001b[0m\u001b[0m\n\u001b[0;32m---> 58\u001b[0;31m     \u001b[0mcaptureVideo\u001b[0m\u001b[0;34m(\u001b[0m\u001b[0;34m)\u001b[0m\u001b[0;34m\u001b[0m\u001b[0m\n\u001b[0m",
      "\u001b[0;32m<ipython-input-5-2cb34a643c6c>\u001b[0m in \u001b[0;36mcaptureVideo\u001b[0;34m()\u001b[0m\n\u001b[1;32m     46\u001b[0m             \u001b[0mcv2\u001b[0m\u001b[0;34m.\u001b[0m\u001b[0mimwrite\u001b[0m\u001b[0;34m(\u001b[0m\u001b[0mstr\u001b[0m\u001b[0;34m(\u001b[0m\u001b[0mfilename\u001b[0m\u001b[0;34m)\u001b[0m\u001b[0;34m,\u001b[0m\u001b[0mframe\u001b[0m\u001b[0;34m)\u001b[0m\u001b[0;34m\u001b[0m\u001b[0m\n\u001b[1;32m     47\u001b[0m             \u001b[0mcv2\u001b[0m\u001b[0;34m.\u001b[0m\u001b[0mwaitKey\u001b[0m\u001b[0;34m(\u001b[0m\u001b[0;36m1\u001b[0m\u001b[0;34m)\u001b[0m\u001b[0;34m\u001b[0m\u001b[0m\n\u001b[0;32m---> 48\u001b[0;31m             \u001b[0mcv2\u001b[0m\u001b[0;34m.\u001b[0m\u001b[0mimwrite\u001b[0m\u001b[0;34m(\u001b[0m\u001b[0mstr\u001b[0m\u001b[0;34m(\u001b[0m\u001b[0mthresh_filename\u001b[0m\u001b[0;34m)\u001b[0m\u001b[0;34m,\u001b[0m\u001b[0mth3\u001b[0m\u001b[0;34m)\u001b[0m\u001b[0;34m\u001b[0m\u001b[0m\n\u001b[0m\u001b[1;32m     49\u001b[0m             \u001b[0mcv2\u001b[0m\u001b[0;34m.\u001b[0m\u001b[0mwaitKey\u001b[0m\u001b[0;34m(\u001b[0m\u001b[0;36m1\u001b[0m\u001b[0;34m)\u001b[0m\u001b[0;34m\u001b[0m\u001b[0m\n\u001b[1;32m     50\u001b[0m             \u001b[0;32mprint\u001b[0m \u001b[0mstr\u001b[0m\u001b[0;34m(\u001b[0m\u001b[0mfilename\u001b[0m\u001b[0;34m)\u001b[0m\u001b[0;34m,\u001b[0m\u001b[0;34m\" written\"\u001b[0m\u001b[0;34m\u001b[0m\u001b[0m\n",
      "\u001b[0;31mNameError\u001b[0m: global name 'th3' is not defined"
     ]
    }
   ],
   "source": [
    "import cv2\n",
    "import numpy as np\n",
    "\n",
    "\n",
    "def captureVideo(video) :\n",
    "    camera = cv2.VideoCapture(1)\n",
    "    \n",
    "    # settings sizing\n",
    "    camera.set(cv2.cv.CV_CAP_PROP_FRAME_WIDTH,700)\n",
    "    camera.set(cv2.cv.CV_CAP_PROP_FRAME_HEIGHT,700)\n",
    "\n",
    "    if video : \n",
    "    ## saving video\n",
    "        fourcc = cv2.cv.CV_FOURCC(*'mp4v') \n",
    "        out = cv2.VideoWriter('output.mp4', fourcc , 20.0, (700,700))\n",
    "    \n",
    "    \n",
    "    photo_index = 1\n",
    "    while True :\n",
    "        \n",
    "        ret,frame = camera.read()\n",
    "        #gray = cv2.cvtColor(frame,cv2.COLOR_BGR2GRAY)\n",
    "        #th3 = cv2.adaptiveThreshold(gray,255,cv2.ADAPTIVE_THRESH_GAUSSIAN_C,cv2.THRESH_BINARY_INV,11,2)\n",
    "\n",
    "        \n",
    "        laplacian = cv2.Laplacian(frame,cv2.CV_64F)\n",
    "        sobelx = cv2.Sobel(frame,cv2.CV_64F,1,0,ksize=5)\n",
    "        sobely = cv2.Sobel(frame,cv2.CV_64F,0,1,ksize=5)\n",
    "        \n",
    "        #cv2.imshow('Camera',frame)\n",
    "        #cv2.imshow('Thrshold',th3)\n",
    "        \n",
    "        cv2.imshow('Laplacian',laplacian)\n",
    "        cv2.imshow('Sobel X',sobelx)\n",
    "        cv2.imshow('Sobel Y',sobely)\n",
    "        \n",
    "        if video : \n",
    "            out.write(frame)\n",
    "        k = cv2.waitKey(200)\n",
    "        if k == 27 : ## Esc clicked\n",
    "            break\n",
    "        elif k == 32 : ## space clicked\n",
    "            filename = \"photo\" + str(photo_index) + \".jpg\"\n",
    "            thresh_filename =  \"photo\" + str(photo_index) +  \"_adapt_thresh.jpg\"\n",
    "            photo_index = photo_index + 1\n",
    "            cv2.imwrite(str(filename),frame)\n",
    "            cv2.waitKey(1)\n",
    "            cv2.imwrite(str(thresh_filename),th3)\n",
    "            cv2.waitKey(1)\n",
    "            print str(filename),\" written\"\n",
    "            \n",
    "    camera.release()\n",
    "    cv2.destroyAllWindows()\n",
    "    cv2.waitKey(1000)\n",
    "    print \"bye\"\n",
    "    \n",
    "if __name__ == \"__main__\" : \n",
    "    \n",
    "    \n",
    "    DO_VIDEO = True\n",
    "    \n",
    "    captureVideo(DO_VIDEO)"
   ]
  },
  {
   "cell_type": "code",
   "execution_count": null,
   "metadata": {
    "collapsed": false
   },
   "outputs": [],
   "source": [
    "import cv2\n",
    "import numpy as np\n",
    "from myfunctions import eagle\n",
    "a = eagle('aa')\n",
    "a.lookKeys() "
   ]
  },
  {
   "cell_type": "code",
   "execution_count": null,
   "metadata": {
    "collapsed": false,
    "scrolled": true
   },
   "outputs": [],
   "source": [
    "import cv2\n",
    "import numpy as np\n",
    "import sys\n",
    "input_image_coordinates = []\n",
    "\n",
    "def take_mouse_coordinates(event,x,y,flags,param) : \n",
    "    \n",
    "    if event == cv2.EVENT_LBUTTONUP:  \n",
    "        input_image_coordinates.append([x,y])\n",
    "        print \"COORDINATE \",str(len(input_image_coordinates)),\": X:\",str(x),\" Y:\",str(y)\n",
    "\n",
    "    \n",
    "image = cv2.imread('photo1.jpg',0)\n",
    "\n",
    "cv2.imshow('W',image)\n",
    "cv2.setMouseCallback('W',take_mouse_coordinates)\n",
    "#output_image_coordinates = [[0,0],[image.shape[0],0],[0,image.shape[1]],[image.shape[0],image.shape[1]]]\n",
    "\n",
    "print \"opened\"\n",
    "while (1) : \n",
    "    k = cv2.waitKey(1)\n",
    "    if k == 27 : \n",
    "        break\n",
    "    if len(input_image_coordinates) == 4 : \n",
    "        try : \n",
    "            print input_image_coordinates\n",
    "            pts1 = np.float32(input_image_coordinates)\n",
    "            pts2 = np.float32([[0,0],[0,image.shape[1]],[image.shape[0],image.shape[1]],[image.shape[0],0]])\n",
    "\n",
    "            M = cv2.getPerspectiveTransform(pts1,pts2)\n",
    "            dst = cv2.warpPerspective(image,M,image.shape)\n",
    "           \n",
    "        \n",
    "        \n",
    "        ercv2.imshow('Transformed Image',dst)\n",
    "            k = cv2.waitKey(0)\n",
    "            print \"before error\"\n",
    "            #print dst\n",
    "        except Exception as inst : \n",
    "            print \"Error : \",str(inst)\n",
    "            break\n",
    "        break\n",
    "    \n",
    "    \n",
    "cv2.destroyAllWindows()\n",
    "cv2.waitKey(1000)\n",
    "\n",
    "\n",
    "print \"bye\""
   ]
  },
  {
   "cell_type": "code",
   "execution_count": 1,
   "metadata": {
    "collapsed": false
   },
   "outputs": [
    {
     "name": "stdout",
     "output_type": "stream",
     "text": [
      "bye\n"
     ]
    }
   ],
   "source": [
    "import cv2\n",
    "import numpy as np\n",
    "\n",
    "img = cv2.imread('thresh.jpg',0)\n",
    "laplacian = cv2.Laplacian(img,cv2.CV_64F)\n",
    "\n",
    "cv2.imshow('Laplacian',laplacian)\n",
    "cv2.imshow('Original',img)\n",
    "k = cv2.waitKey(0)\n",
    "if k == 27 : \n",
    "    cv2.destroyAllWindows()\n",
    "    cv2.waitKey(1000)\n",
    "    print \"bye\"\n"
   ]
  },
  {
   "cell_type": "code",
   "execution_count": null,
   "metadata": {
    "collapsed": true
   },
   "outputs": [],
   "source": []
  },
  {
   "cell_type": "code",
   "execution_count": null,
   "metadata": {
    "collapsed": true
   },
   "outputs": [],
   "source": []
  }
 ],
 "metadata": {
  "kernelspec": {
   "display_name": "OPENCV",
   "language": "python",
   "name": "opencv"
  },
  "language_info": {
   "codemirror_mode": {
    "name": "ipython",
    "version": 2
   },
   "file_extension": ".py",
   "mimetype": "text/x-python",
   "name": "python",
   "nbconvert_exporter": "python",
   "pygments_lexer": "ipython2",
   "version": "2.7.13"
  }
 },
 "nbformat": 4,
 "nbformat_minor": 2
}
