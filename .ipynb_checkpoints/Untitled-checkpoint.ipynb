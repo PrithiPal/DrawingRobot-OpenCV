{
 "cells": [
  {
   "cell_type": "code",
   "execution_count": null,
   "metadata": {
    "collapsed": false
   },
   "outputs": [],
   "source": [
    "from myFunctions import lookKeys"
   ]
  },
  {
   "cell_type": "code",
   "execution_count": null,
   "metadata": {
    "collapsed": false
   },
   "outputs": [],
   "source": [
    "lookKeys()"
   ]
  },
  {
   "cell_type": "code",
   "execution_count": null,
   "metadata": {
    "collapsed": false
   },
   "outputs": [],
   "source": [
    "import cv2\n",
    "import numpy as np\n",
    "\n",
    "\n",
    "def captureImage(filename): ## filename = file to save\n",
    "    \n",
    "    camera = cv2.VideoCapture(1)\n",
    "    ret,frame = camera.read()\n",
    "    cv2.imshow('Camera Image',frame)\n",
    "    k = cv2.waitKey(0)\n",
    "\n",
    "    if k == 27 : \n",
    "\n",
    "        camera.release()\n",
    "        cv2.destroyAllWindows()\n",
    "        cv2.waitKey(1000)\n",
    "        print \"bye\"\n",
    "    \n",
    "    elif k == 113 : # 'w'\n",
    "        if str(filename) != '' or filename is not null : \n",
    "            format_list = ['.jpg','.png']\n",
    "            if str(filename[-4:]) in format_list : \n",
    "                cv2.imwrite(str(filename),frame)\n",
    "                print \"Image written to \",str(filename)\n",
    "            else : \n",
    "                print \"Incorrect fileformat\"\n",
    "        else : \n",
    "            print \"No filename provided\"\n",
    "    return 1\n",
    "\n",
    "captureImage('jugnu.png')\n",
    "\n",
    "\n"
   ]
  },
  {
   "cell_type": "code",
   "execution_count": null,
   "metadata": {
    "collapsed": true
   },
   "outputs": [],
   "source": []
  },
  {
   "cell_type": "code",
   "execution_count": null,
   "metadata": {
    "collapsed": true
   },
   "outputs": [],
   "source": []
  }
 ],
 "metadata": {
  "kernelspec": {
   "display_name": "OPENCV",
   "language": "python",
   "name": "opencv"
  },
  "language_info": {
   "codemirror_mode": {
    "name": "ipython",
    "version": 2
   },
   "file_extension": ".py",
   "mimetype": "text/x-python",
   "name": "python",
   "nbconvert_exporter": "python",
   "pygments_lexer": "ipython2",
   "version": "2.7.13"
  }
 },
 "nbformat": 4,
 "nbformat_minor": 2
}
