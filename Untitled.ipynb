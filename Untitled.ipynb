{
 "cells": [
  {
   "cell_type": "code",
   "execution_count": 5,
   "metadata": {
    "collapsed": false
   },
   "outputs": [
    {
     "name": "stdout",
     "output_type": "stream",
     "text": [
      "Key :  63232\n",
      "Key :  63234\n",
      "Key :  63233\n",
      "Key :  63235\n",
      "Key :  119\n",
      "Key :  119\n",
      "Key :  119\n",
      "bye\n"
     ]
    },
    {
     "data": {
      "text/plain": [
       "1"
      ]
     },
     "execution_count": 5,
     "metadata": {},
     "output_type": "execute_result"
    }
   ],
   "source": [
    "from myFunctions import lookKeys\n",
    "lookKeys()"
   ]
  },
  {
   "cell_type": "code",
   "execution_count": 4,
   "metadata": {
    "collapsed": false
   },
   "outputs": [
    {
     "ename": "NameError",
     "evalue": "name 'lookKeys' is not defined",
     "output_type": "error",
     "traceback": [
      "\u001b[0;31m---------------------------------------------------------------------------\u001b[0m",
      "\u001b[0;31mNameError\u001b[0m                                 Traceback (most recent call last)",
      "\u001b[0;32m<ipython-input-4-a8697040c001>\u001b[0m in \u001b[0;36m<module>\u001b[0;34m()\u001b[0m\n\u001b[0;32m----> 1\u001b[0;31m \u001b[0mlookKeys\u001b[0m\u001b[0;34m(\u001b[0m\u001b[0;34m)\u001b[0m\u001b[0;34m\u001b[0m\u001b[0m\n\u001b[0m",
      "\u001b[0;31mNameError\u001b[0m: name 'lookKeys' is not defined"
     ]
    }
   ],
   "source": []
  },
  {
   "cell_type": "code",
   "execution_count": 6,
   "metadata": {
    "collapsed": false
   },
   "outputs": [
    {
     "name": "stdout",
     "output_type": "stream",
     "text": [
      "Image written to  jugnu.png\n",
      "bye\n"
     ]
    },
    {
     "data": {
      "text/plain": [
       "1"
      ]
     },
     "execution_count": 6,
     "metadata": {},
     "output_type": "execute_result"
    }
   ],
   "source": [
    "import cv2\n",
    "import numpy as np\n",
    "\n",
    "\n",
    "def captureImage(filename): ## filename = file to save\n",
    "    \n",
    "    camera = cv2.VideoCapture(1)\n",
    "    ret,frame = camera.read()\n",
    "    cv2.imshow('Camera Image',frame)\n",
    "    k = cv2.waitKey(0)\n",
    "\n",
    "    if k == 27 : \n",
    "\n",
    "        camera.release()\n",
    "        cv2.destroyAllWindows()\n",
    "        cv2.waitKey(1000)\n",
    "        print \"bye\"\n",
    "    \n",
    "    elif k == 119 : # 'w'\n",
    "        if str(filename) != '' or filename is not null : \n",
    "            format_list = ['.jpg','.png']\n",
    "            if str(filename[-4:]) in format_list : \n",
    "                cv2.imwrite(str(filename),frame)\n",
    "                print \"Image written to \",str(filename)\n",
    "            else : \n",
    "                print \"Incorrect fileformat\"\n",
    "        else : \n",
    "            print \"No filename provided\"\n",
    "    \n",
    "    camera.release()\n",
    "    cv2.destroyAllWindows()\n",
    "    cv2.waitKey(1000)\n",
    "    print \"bye\"\n",
    "    return 1\n",
    "\n",
    "captureImage('jugnu.png')\n",
    "\n",
    "\n"
   ]
  },
  {
   "cell_type": "code",
   "execution_count": null,
   "metadata": {
    "collapsed": true
   },
   "outputs": [],
   "source": []
  },
  {
   "cell_type": "code",
   "execution_count": null,
   "metadata": {
    "collapsed": true
   },
   "outputs": [],
   "source": []
  }
 ],
 "metadata": {
  "kernelspec": {
   "display_name": "OPENCV",
   "language": "python",
   "name": "opencv"
  },
  "language_info": {
   "codemirror_mode": {
    "name": "ipython",
    "version": 2
   },
   "file_extension": ".py",
   "mimetype": "text/x-python",
   "name": "python",
   "nbconvert_exporter": "python",
   "pygments_lexer": "ipython2",
   "version": "2.7.13"
  }
 },
 "nbformat": 4,
 "nbformat_minor": 2
}
